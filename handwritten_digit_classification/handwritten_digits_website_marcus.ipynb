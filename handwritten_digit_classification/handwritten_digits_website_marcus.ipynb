{
 "cells": [
  {
   "cell_type": "markdown",
   "id": "4ce29299-b64f-494a-8b5a-4b8bb6e8f915",
   "metadata": {},
   "source": [
    "# Handwritten Digit Classification\n",
    "### Gaussian Process Classification\n",
    "\n",
    "#### Dataset Description ([Link to Data](https://scikit-learn.org/stable/modules/generated/sklearn.datasets.load_digits.html))\n",
    "\n",
    "Each entry corresponds to one hand-written digit on 8x8 pixels. The dataset contains 1797 samples, with about 180 samples for each of the 10 classes (0-9). A Gaussian Process Classification using the Sliced Wasserstein Distance with an exponential kernels, where 10 models are trained for a One-v-Rest approach. We use PCA for direction optimizationand use both the probit and logit link function to convert the regression to classes. This example should replicated withou too much difficulty or time. Instead of training on global optimization, we sparsify the data and use an MCMC with 200 iterations."
   ]
  },
  {
   "cell_type": "code",
   "execution_count": null,
   "id": "146ed353-774b-4b3b-9baf-aef2d5b31e97",
   "metadata": {},
   "outputs": [],
   "source": [
    "# !pip install gpcam"
   ]
  },
  {
   "cell_type": "code",
   "execution_count": 9,
   "id": "1085846e-2b28-4e17-aae6-d1ede099230c",
   "metadata": {},
   "outputs": [],
   "source": [
    "import numpy as np\n",
    "import matplotlib.pyplot as plt\n",
    "import pandas as pd\n",
    "import sys\n",
    "\n",
    "from fvgp import GP\n",
    "from fvgp.gp_kernels import exponential_kernel\n",
    "\n",
    "from sklearn.datasets import load_digits\n",
    "from sklearn.preprocessing import StandardScaler\n",
    "from sklearn.model_selection import train_test_split\n",
    "from sklearn.metrics import accuracy_score, classification_report\n",
    "from sklearn.utils import shuffle\n",
    "from sklearn.decomposition import PCA\n",
    "\n",
    "from scipy.stats import wasserstein_distance\n",
    "from scipy.stats import norm\n",
    "\n",
    "import torch\n",
    "import torch.nn as nn\n",
    "import torch.optim as optim\n",
    "from torch.utils.data import DataLoader, TensorDataset\n"
   ]
  },
  {
   "cell_type": "code",
   "execution_count": 10,
   "id": "b6017db6-0786-4375-a6db-7176a55839a5",
   "metadata": {},
   "outputs": [],
   "source": [
    "# 1. Load and Preprocess the Digits Dataset\n",
    "digits = load_digits()\n",
    "X, y = digits.data, digits.target\n",
    "\n",
    "# Split into training and testing sets\n",
    "X_train, X_test, y_train, y_test = train_test_split(\n",
    "    X, y, test_size=0.1, random_state=42, stratify=y\n",
    ")"
   ]
  },
  {
   "cell_type": "code",
   "execution_count": 11,
   "id": "3c3863ac-d3e7-44ad-8975-b5ae8c474737",
   "metadata": {},
   "outputs": [],
   "source": [
    "# 2. Create Sparse Datasets by Selecting Every 4th Sample\n",
    "#X_train_sparse = X_train[::4]\n",
    "#X_test_sparse = X_test[::4]\n",
    "#y_train_sparse = y_train[::4]\n",
    "#y_test_sparse = y_test[::4]\n",
    "\n",
    "# Feature Scaling\n",
    "#scaler = StandardScaler()\n",
    "#X_train_scaled = scaler.fit_transform(X_train)\n",
    "#X_test_scaled = scaler.transform(X_test)\n",
    "\n",
    "\n",
    "for i in range(len(X_train)): \n",
    "    X_train[i] = (X_train[i] - np.min(X_train[i])) + 1e-8\n",
    "    X_train[i] =  X_train[i] / np.sum(X_train[i])\n",
    "\n",
    "for i in range(len(X_test)): \n",
    "    X_test[i] = (X_test[i] - np.min(X_test[i])) + 1e-8\n",
    "    X_test[i] =  X_test[i] / np.sum(X_test[i])"
   ]
  },
  {
   "cell_type": "code",
   "execution_count": 13,
   "id": "7380fe6d-ddb9-4bf3-9ffe-31ba43fa8585",
   "metadata": {},
   "outputs": [],
   "source": [
    "# Define the Logit Function\n",
    "def logit(x):\n",
    "    \"\"\"\n",
    "    Applies the logit function element-wise to the input array.\n",
    "    \n",
    "    Parameters:\n",
    "    - x: ndarray\n",
    "    \n",
    "    Returns:\n",
    "    - logit: ndarray\n",
    "    \"\"\"\n",
    "    return 1 / (1 + np.exp(-x))\n",
    "\n",
    "# Define Prediction Function using Logit\n",
    "def predict_probs_logit(X_test, gp_models):\n",
    "    \"\"\"\n",
    "    Predicts class probabilities for the test set using trained GP models with logit activation.\n",
    "    \n",
    "    Parameters:\n",
    "    - X_test: (n_test, d) ndarray\n",
    "    - gp_models: list of trained GP models\n",
    "    \n",
    "    Returns:\n",
    "    - probabilities: (n_test, num_classes) ndarray\n",
    "    \"\"\"\n",
    "    num_classes = len(gp_models)\n",
    "    n_test = X_test.shape[0]\n",
    "    logits = np.zeros((n_test, num_classes))\n",
    "\n",
    "    for class_label, gp_model in enumerate(gp_models):\n",
    "        # Compute the posterior mean for the test data\n",
    "        posterior = gp_model.posterior_mean(X_test)\n",
    "        mean = posterior[\"f(x)\"]  # Extract mean predictions\n",
    "        logits[:, class_label] = mean.flatten()\n",
    "\n",
    "    # Apply logit to convert logits to probabilities\n",
    "    probabilities = logit(logits)\n",
    "    return probabilities"
   ]
  },
  {
   "cell_type": "code",
   "execution_count": 14,
   "id": "c796267f-cf16-4d9f-9a81-279d0c8cd9d4",
   "metadata": {},
   "outputs": [
    {
     "data": {
      "text/plain": [
       "[<matplotlib.lines.Line2D at 0x7f5a4b3832b0>]"
      ]
     },
     "execution_count": 14,
     "metadata": {},
     "output_type": "execute_result"
    },
    {
     "data": {
      "image/png": "[encoded data removed]",
      "text/plain": [
       "<Figure size 640x480 with 1 Axes>"
      ]
     },
     "metadata": {},
     "output_type": "display_data"
    }
   ],
   "source": [
    "x = np.linspace(-10,10,1000)\n",
    "plt.plot(x, logit(x))"
   ]
  },
  {
   "cell_type": "code",
   "execution_count": 15,
   "id": "233ca6ba-9ad2-4b03-9a50-7854ffc56219",
   "metadata": {},
   "outputs": [],
   "source": [
    "# Define the Probit Function with Variance Incorporation\n",
    "def probit_with_variance(mu, sigma2):\n",
    "    \"\"\"\n",
    "    Applies the probit function with variance adjustment.\n",
    "    \n",
    "    Parameters:\n",
    "    - mu: ndarray of shape (n_test, num_classes)\n",
    "      Posterior means for each class.\n",
    "    - sigma2: ndarray of shape (n_test, num_classes)\n",
    "      Posterior variances for each class.\n",
    "      \n",
    "    Returns:\n",
    "    - probabilities: ndarray of shape (n_test, num_classes)\n",
    "      Adjusted probabilities for each class.\n",
    "    \"\"\"\n",
    "    # Adjust the mean by incorporating variance\n",
    "    adjusted_mu = mu / np.sqrt(1 + sigma2)\n",
    "    return norm.cdf(adjusted_mu)\n",
    "\n",
    "# Define Prediction Function using Probit Link with Variance\n",
    "def predict_probs_probit_with_variance(X_test, gp_models):\n",
    "    \"\"\"\n",
    "    Predicts class probabilities for the test set using trained GP models\n",
    "    with probit activation, incorporating posterior variance.\n",
    "    \n",
    "    Parameters:\n",
    "    - X_test: (n_test, d) ndarray\n",
    "      Test data features.\n",
    "    - gp_models: list of trained GP models\n",
    "      One GP model per class.\n",
    "      \n",
    "    Returns:\n",
    "    - probabilities: (n_test, num_classes) ndarray\n",
    "      Class probabilities for each test sample.\n",
    "    \"\"\"\n",
    "    num_classes = len(gp_models)\n",
    "    n_test = X_test.shape[0]\n",
    "    \n",
    "    # Initialize arrays to store means and variances\n",
    "    means = np.zeros((n_test, num_classes))\n",
    "    variances = np.zeros((n_test, num_classes))\n",
    "    \n",
    "    for class_label, gp_model in enumerate(gp_models):\n",
    "        # Compute the posterior mean for the test data\n",
    "        posterior_mean = gp_model.posterior_mean(X_test)\n",
    "        mean = posterior_mean[\"f(x)\"]  # Extract mean predictions\n",
    "        means[:, class_label] = mean.flatten()\n",
    "        \n",
    "        # Compute the posterior variance for the test data\n",
    "        posterior_cov = gp_model.posterior_covariance(X_test, variance_only=True)\n",
    "        variance = posterior_cov[\"v(x)\"]  # Extract variances\n",
    "        variances[:, class_label] = variance.flatten()\n",
    "    \n",
    "    # Apply probit with variance to convert means and variances to probabilities\n",
    "    probabilities = probit_with_variance(means, variances)\n",
    "    return probabilities"
   ]
  },
  {
   "cell_type": "code",
   "execution_count": 71,
   "id": "e790ff04-711a-4f97-89c3-5aac83219142",
   "metadata": {},
   "outputs": [],
   "source": [
    "def KL(p,q):\n",
    "    #print(p.shape, q.shape, (np.sum(p * np.log(p/q),axis=(1,2))).shape)\n",
    "    return np.sum(p * np.log(p/q))\n",
    "\n",
    "def JS(images1, images2):\n",
    "    JS = np.zeros((len(images1), len(images2)))\n",
    "    for i in range(len(images1)):\n",
    "        for j in range(len(images2)):\n",
    "            M = 0.5 * (images1[i] + images2[j])\n",
    "            JS[i,j] = 0.5 * (KL(images1[i], M) + KL(images2[j], M))\n",
    "            \n",
    "    return JS"
   ]
  },
  {
   "cell_type": "code",
   "execution_count": 72,
   "id": "f5c08746-870b-412a-adc4-7084ad52614a",
   "metadata": {},
   "outputs": [
    {
     "data": {
      "text/plain": [
       "180"
      ]
     },
     "execution_count": 72,
     "metadata": {},
     "output_type": "execute_result"
    }
   ],
   "source": [
    "len(X_test)"
   ]
  },
  {
   "cell_type": "code",
   "execution_count": 73,
   "id": "882ca813-c071-4c43-8a4b-715b10d92b18",
   "metadata": {},
   "outputs": [],
   "source": [
    "JS_X_train = JS(X_train, X_train)\n",
    "JS_X_test_kk = JS(X_test, X_test)\n",
    "JS_X_test_k = JS(X_train, X_test)"
   ]
  },
  {
   "cell_type": "code",
   "execution_count": 87,
   "id": "4303d1a0-efc0-44d7-a307-ed354ee1fcea",
   "metadata": {},
   "outputs": [],
   "source": [
    "# 3. Define the Sliced Wasserstein Exponential Kernel\n",
    "def sliced_wasserstein_exponential_kernel_directions(X1, X2, hyperparameters, directions):\n",
    "    \"\"\"\n",
    "    Computes the sliced Wasserstein exponential kernel using PCA directions for projections.\n",
    "\n",
    "    Parameters:\n",
    "    - X1: (n1, d) ndarray\n",
    "    - X2: (n2, d) ndarray\n",
    "    - hyperparameters: ndarray, contains [length_scale]\n",
    "    - directions: (k, d) ndarray, selected directions\n",
    "\n",
    "    Returns:\n",
    "    - kernel_matrix: (n1, n2) ndarray\n",
    "    \"\"\"\n",
    "    length_scale = hyperparameters[0]\n",
    "    #X1 = X1.reshape(len(X1),8,8)\n",
    "    #X2 = X2.reshape(len(X2),8,8)\n",
    "    #print(\"kernel evaluated\")\n",
    "    \n",
    "\n",
    "    if len(X1) == len(X2) == 1617: return hyperparameters[0] * exponential_kernel(JS_X_train, length_scale)\n",
    "    if len(X1) == len(X2) == 180: return hyperparameters[0] * exponential_kernel(JS_X_test_kk, length_scale)\n",
    "    else: return hyperparameters[0] * exponential_kernel(JS_X_test_k, length_scale)\n",
    "        \n",
    "    n1, d = X1.shape\n",
    "    n2, _ = X2.shape\n",
    "    k = directions.shape[0]  \n",
    "    \n",
    "    # Initialize the kernel matrix\n",
    "    kernel_matrix = np.zeros((n1, n2))\n",
    "    \n",
    "    # Iterate over each PCA direction\n",
    "    for dir_idx in range(k):\n",
    "        direction = directions[dir_idx]\n",
    "        \n",
    "        # Project the data onto the current PCA direction\n",
    "        proj_X1 = X1.dot(direction)  # Shape: (n1,)\n",
    "        proj_X2 = X2.dot(direction)  # Shape: (n2,)\n",
    "        \n",
    "        # Compute the absolute differences between projections\n",
    "        abs_diff = np.abs(proj_X1[:, np.newaxis] - proj_X2[np.newaxis, :])  # Shape: (n1, n2)\n",
    "        \n",
    "        # Apply the exponential kernel\n",
    "        kernel_matrix += exponential_kernel(abs_diff, length_scale)\n",
    "    \n",
    "    # Average over all directions\n",
    "    kernel_matrix /= k\n",
    "    \n",
    "    # Add jitter for numerical stability\n",
    "    jitter = 1e-3\n",
    "    if X1.shape[0] == X2.shape[0]:\n",
    "        kernel_matrix += jitter * np.eye(X1.shape[0])\n",
    "    \n",
    "    return kernel_matrix"
   ]
  },
  {
   "cell_type": "code",
   "execution_count": 88,
   "id": "c3e40c17-4bf6-4b70-9217-db28fb1cf29e",
   "metadata": {},
   "outputs": [],
   "source": [
    "# 5. Initialize Hyperparameters and Bounds\n",
    "initial_length_scale = 1.0  # Initial guess for length scale\n",
    "init_hyperparameters = np.array([initial_length_scale])\n",
    "\n",
    "# Define bounds for the length scale (e.g., between 0.1 and 10)\n",
    "length_scale_bounds = np.array([[0.1, 10.0]])"
   ]
  },
  {
   "cell_type": "code",
   "execution_count": 89,
   "id": "27e4dc67-ae9a-4b93-b39c-af4372ebed15",
   "metadata": {},
   "outputs": [],
   "source": [
    "#pca = PCA()\n",
    "#pca.fit(X_train_scaled)\n",
    "\n",
    "#cumulative_variance = np.cumsum(pca.explained_variance_ratio_)\n",
    "#optimal_num_components = np.argmax(cumulative_variance >= 0.95) + 1  # +1 because indices start at 0\n",
    "#selected_directions_pca = pca.components_[:optimal_num_components]"
   ]
  },
  {
   "cell_type": "code",
   "execution_count": 90,
   "id": "53c0950f-67fe-408c-b867-da3c804eaff2",
   "metadata": {},
   "outputs": [],
   "source": [
    "#directions = selected_directions_pca\n",
    "#k = directions.shape[0]\n",
    "#print(k)\n",
    "#for dir_idx in range(k):\n",
    "#    direction = directions[dir_idx]\n",
    "#    print((X_train_scaled.dot(direction).shape))"
   ]
  },
  {
   "cell_type": "code",
   "execution_count": 91,
   "id": "5fea6320-7e1f-40da-a750-fedf8146fc46",
   "metadata": {},
   "outputs": [],
   "source": [
    "# Assuming the PCA directions are computed beforehand and stored in `selected_directions`\n",
    "def sliced_wasserstein_exponential_kernel_wrapper_pca(x1, x2, hyperparameters):\n",
    "    \"\"\"\n",
    "    Wrapper function to match the expected signature for the GP kernel.\n",
    "\n",
    "    Parameters:\n",
    "    - x1: (n1, d) ndarray\n",
    "    - x2: (n2, d) ndarray\n",
    "    - hyperparameters: ndarray, contains [length_scale]\n",
    "\n",
    "    Returns:\n",
    "    - kernel_matrix: (n1, n2) ndarray\n",
    "    \"\"\"\n",
    "    # Use the previously computed PCA directions\n",
    "    #return sliced_wasserstein_exponential_kernel_directions(x1, x2, hyperparameters, selected_directions_pca)\n",
    "    return sliced_wasserstein_exponential_kernel_directions(x1, x2, hyperparameters, None)\n"
   ]
  },
  {
   "cell_type": "code",
   "execution_count": null,
   "id": "76273ec6-ed02-4350-addb-9fb0a24ec921",
   "metadata": {},
   "outputs": [],
   "source": []
  },
  {
   "cell_type": "code",
   "execution_count": 94,
   "id": "09fe8d14-30cc-446b-88c3-b43a6f6efe63",
   "metadata": {
    "scrolled": true
   },
   "outputs": [
    {
     "name": "stdout",
     "output_type": "stream",
     "text": [
      "Training GP model for class 0\n",
      "GP model for class 0 trained.\n",
      "\n",
      "Training GP model for class 1\n",
      "GP model for class 1 trained.\n",
      "\n",
      "Training GP model for class 2\n",
      "GP model for class 2 trained.\n",
      "\n",
      "Training GP model for class 3\n",
      "GP model for class 3 trained.\n",
      "\n",
      "Training GP model for class 4\n",
      "GP model for class 4 trained.\n",
      "\n",
      "Training GP model for class 5\n",
      "GP model for class 5 trained.\n",
      "\n",
      "Training GP model for class 6\n",
      "GP model for class 6 trained.\n",
      "\n",
      "Training GP model for class 7\n",
      "GP model for class 7 trained.\n",
      "\n",
      "Training GP model for class 8\n",
      "GP model for class 8 trained.\n",
      "\n",
      "Training GP model for class 9\n",
      "GP model for class 9 trained.\n",
      "\n"
     ]
    }
   ],
   "source": [
    "# 6. Initialize and Train GP Models for Each Class using One-vs-Rest Strategy\n",
    "gp_models_pca = []\n",
    "num_classes = 10  # Digits 0-9\n",
    "\n",
    "for class_label in range(num_classes):\n",
    "    print(f\"Training GP model for class {class_label}\")\n",
    "\n",
    "    # Binary labels for the current class\n",
    "    y_train_binary = (y_train == class_label).astype(float)\n",
    "    # Initialize GP model\n",
    "    gp_model = GP(\n",
    "        X_train,\n",
    "        y_train_binary,\n",
    "        init_hyperparameters=init_hyperparameters,\n",
    "        gp_kernel_function=sliced_wasserstein_exponential_kernel_wrapper_pca,\n",
    "        noise_variances=np.zeros(len(y_train_binary)) + 1e-6  # Noise variance\n",
    "    )\n",
    "\n",
    "    # Train the GP model using MCMC\n",
    "    gp_model.train(\n",
    "        hyperparameter_bounds=length_scale_bounds,\n",
    "        method='mcmc',\n",
    "        max_iter=1000,\n",
    "        tolerance=1e-3,  \n",
    "    )\n",
    "\n",
    "    gp_models_pca.append(gp_model)\n",
    "    print(f\"GP model for class {class_label} trained.\\n\")\n"
   ]
  },
  {
   "cell_type": "code",
   "execution_count": 98,
   "id": "887d7434-42ab-4b6f-a4a7-60a309210e43",
   "metadata": {},
   "outputs": [
    {
     "name": "stdout",
     "output_type": "stream",
     "text": [
      "PCA W-2 Logit Link – Accuracy: 0.9944\n",
      "\n",
      "Classification Report:\n",
      "              precision    recall  f1-score   support\n",
      "\n",
      "           0       1.00      1.00      1.00        18\n",
      "           1       0.95      1.00      0.97        18\n",
      "           2       1.00      1.00      1.00        18\n",
      "           3       1.00      1.00      1.00        18\n",
      "           4       1.00      1.00      1.00        18\n",
      "           5       1.00      1.00      1.00        18\n",
      "           6       1.00      1.00      1.00        18\n",
      "           7       1.00      1.00      1.00        18\n",
      "           8       1.00      0.94      0.97        18\n",
      "           9       1.00      1.00      1.00        18\n",
      "\n",
      "    accuracy                           0.99       180\n",
      "   macro avg       0.99      0.99      0.99       180\n",
      "weighted avg       0.99      0.99      0.99       180\n",
      "\n"
     ]
    }
   ],
   "source": [
    "# Predict Probabilities using the Logit Link Function\n",
    "gp_probabilities_logit_pca = predict_probs_logit(X_test, gp_models_pca)\n",
    "\n",
    "# Predict Class Labels by Selecting the Class with the Highest Probability\n",
    "gp_predictions_logit_pca = np.argmax(gp_probabilities_logit_pca, axis=1)\n",
    "\n",
    "# Calculate Accuracy\n",
    "gp_accuracy_logit_pca = accuracy_score(y_test, gp_predictions_logit_pca)\n",
    "\n",
    "# 9. Evaluate the Classifier\n",
    "print(f'PCA W-2 Logit Link – Accuracy: {gp_accuracy_logit_pca:.4f}\\n')\n",
    "print('Classification Report:')\n",
    "print(classification_report(y_test, gp_predictions_logit_pca))\n"
   ]
  },
  {
   "cell_type": "code",
   "execution_count": null,
   "id": "88e95bd8-0f8f-44ce-b954-cdeebde74c16",
   "metadata": {},
   "outputs": [],
   "source": []
  }
 ],
 "metadata": {
  "kernelspec": {
   "display_name": "Python 3 (ipykernel)",
   "language": "python",
   "name": "python3"
  },
  "language_info": {
   "codemirror_mode": {
    "name": "ipython",
    "version": 3
   },
   "file_extension": ".py",
   "mimetype": "text/x-python",
   "name": "python",
   "nbconvert_exporter": "python",
   "pygments_lexer": "ipython3",
   "version": "3.11.3"
  }
 },
 "nbformat": 4,
 "nbformat_minor": 5
}
