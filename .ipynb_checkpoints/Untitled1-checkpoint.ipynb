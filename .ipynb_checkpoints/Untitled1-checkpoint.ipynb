{
 "cells": [
  {
   "cell_type": "code",
   "execution_count": 9,
   "id": "0163c469-e5e5-4194-a348-b13b078f66e6",
   "metadata": {},
   "outputs": [],
   "source": [
    "import numpy as np\n",
    "import sys\n",
    "from fvgp import GP\n",
    "from sklearn.datasets import load_digits\n",
    "from sklearn.preprocessing import StandardScaler\n",
    "from sklearn.model_selection import train_test_split\n",
    "from sklearn.metrics import accuracy_score, classification_report\n",
    "import pandas as pd\n",
    "from loguru import logger\n",
    "from fvgp.gp_kernels import squared_exponential_kernel, matern_kernel_diff2"
   ]
  },
  {
   "cell_type": "code",
   "execution_count": 10,
   "id": "10c57ffd-b7e5-4ac5-918b-599b7123e406",
   "metadata": {},
   "outputs": [],
   "source": [
    "def matern_kernel_isotropic(x1, x2, hps): # for one length_scale hyperparameter for each feature\n",
    "    distance = np.sqrt(((x1[:, np.newaxis, :] - x2[np.newaxis, :, :]) ** 2).sum(axis=2))\n",
    "    return matern_kernel_diff2(distance, hps[0])"
   ]
  },
  {
   "cell_type": "code",
   "execution_count": 60,
   "id": "3a7e2d0c-aec6-4fbb-8391-2a1bbb2836f7",
   "metadata": {},
   "outputs": [],
   "source": [
    "def matern_kernel_anisotropic(x1, x2, length_scales): # for an individual length_scale hyperparameter for each unique feature\n",
    "    length_scales = np.array(length_scales)\n",
    "    d = np.sqrt(np.sum(((x1[:, np.newaxis, :] - x2[np.newaxis, :, :]) / length_scales) ** 2, axis=2))\n",
    "    return matern_kernel_diff2(d, 1.0)"
   ]
  },
  {
   "cell_type": "code",
   "execution_count": 31,
   "id": "eea0eb78-ce7e-4b96-b952-7f59e2de6b2a",
   "metadata": {},
   "outputs": [],
   "source": [
    "# Load digits dataset\n",
    "digits = load_digits()\n",
    "X, y = digits.data, digits.target\n",
    "\n",
    "X_train, X_test, y_train, y_test = train_test_split(X, y, test_size=0.1, random_state=42)\n",
    "\n",
    "scaler = StandardScaler()\n",
    "X_train_scaled = scaler.fit_transform(X_train)\n",
    "X_test_scaled = scaler.transform(X_test)\n",
    "\n",
    "init_length_scale_rbf = np.array([5.0])\n",
    "hps_bounds_rbf = np.array([[0.01, 15.0]])"
   ]
  },
  {
   "cell_type": "code",
   "execution_count": 55,
   "id": "f7fa92af-0423-4d09-a976-d3ebbfea5b5e",
   "metadata": {},
   "outputs": [
    {
     "name": "stderr",
     "output_type": "stream",
     "text": [
      "/Library/Frameworks/Python.framework/Versions/3.11/lib/python3.11/site-packages/fvgp/gp_training.py:331: RuntimeWarning: Method L-BFGS-B does not use Hessian information (hess).\n",
      "  OptimumEvaluation = minimize(\n"
     ]
    },
    {
     "data": {
      "text/plain": [
       "array([4.44617771])"
      ]
     },
     "execution_count": 55,
     "metadata": {},
     "output_type": "execute_result"
    }
   ],
   "source": [
    "# Initialize the GP model for classification\n",
    "gp_model = GP( \n",
    "    X_train_scaled,\n",
    "    y_train,\n",
    "    init_hyperparameters=np.array([6.0]),  # =np.ones(X_train_scaled.shape[1])*9 if the Anisotropic kernel is being used instead\n",
    "    gp_kernel_function=matern_kernel_isotropic, # =matern_kernel_anisotropic\n",
    "    noise_variances=np.ones(y_train.shape) * 0.25  # Assuming small noise variance (measurement error)\n",
    ")\n",
    "\n",
    "hps_bounds = np.array([[3, 20]])  \n",
    "\n",
    "#Train using local optimization\n",
    "gp_model.train(\n",
    "    hyperparameter_bounds=hps_bounds,\n",
    "    method='local',\n",
    "    max_iter=50,\n",
    "    tolerance=1,\n",
    ")"
   ]
  },
  {
   "cell_type": "code",
   "execution_count": 56,
   "id": "50b7deca-3f56-453d-aca0-2a5f210c54c9",
   "metadata": {},
   "outputs": [],
   "source": [
    "# Classify the test set\n",
    "posterior = gp_model.posterior_mean(X_test_scaled)\n",
    "f_cov = gp_model.posterior_covariance(X_test_scaled)\n",
    "f_var = f_cov['v(x)']  # Variances at the input points\n",
    "f_cov_matrix = f_cov['S']  # Full posterior covariance matrix\n",
    "f_mean = posterior[\"f(x)\"] # Posterior means"
   ]
  },
  {
   "cell_type": "code",
   "execution_count": 57,
   "id": "3099b0c1-7149-4a28-a55a-f7bf0a6206c8",
   "metadata": {},
   "outputs": [],
   "source": [
    "gp_y_pred = f_mean.round()\n",
    "gp_y_pred[gp_y_pred == -1] = 0 # truncating anomalies"
   ]
  },
  {
   "cell_type": "code",
   "execution_count": 58,
   "id": "0d1516b5-ecf9-46fd-b8e0-88be59024565",
   "metadata": {},
   "outputs": [
    {
     "data": {
      "text/plain": [
       "array([ 6.,  9.,  3.,  7.,  2.,  2.,  5.,  2.,  5.,  4.,  2.,  8.,  4.,\n",
       "        0.,  4.,  2.,  3.,  6.,  8.,  8.,  5.,  3.,  8.,  7.,  4.,  6.,\n",
       "        2.,  5.,  6.,  3.,  4.,  9.,  1.,  4.,  4.,  6.,  9.,  4.,  7.,\n",
       "        6.,  7.,  8.,  1.,  3.,  5.,  2.,  3.,  0.,  6.,  5.,  5.,  1.,\n",
       "        6.,  5.,  6.,  0.,  8.,  1.,  0.,  2.,  2.,  4.,  6.,  3.,  4.,\n",
       "        5.,  7.,  2.,  7.,  6.,  9.,  6.,  5.,  4.,  7.,  1.,  4.,  5.,\n",
       "        6.,  6.,  9.,  2.,  2.,  3.,  8.,  0.,  7.,  4.,  4.,  7.,  1.,\n",
       "        2.,  7.,  3.,  6.,  2.,  8.,  1.,  4.,  4.,  4.,  3.,  5.,  4.,\n",
       "        1.,  4.,  5.,  8.,  4.,  2.,  6.,  7.,  5.,  4.,  2.,  8.,  3.,\n",
       "        6.,  8.,  7.,  1.,  6.,  8.,  5.,  2.,  6.,  3.,  7.,  5.,  8.,\n",
       "        5.,  5.,  6.,  6.,  1.,  6.,  6.,  4.,  2.,  8., -0.,  9.,  4.,\n",
       "        5.,  8.,  8.,  6.,  9.,  1.,  5.,  5.,  6.,  6.,  1.,  6.,  4.,\n",
       "        3.,  8.,  3.,  7.,  7.,  2.,  7., -0.,  4.,  5.,  5.,  6.,  5.,\n",
       "        8.,  8.,  6.,  4.,  3.,  1.,  4.,  7.,  6.,  2.,  1.])"
      ]
     },
     "execution_count": 58,
     "metadata": {},
     "output_type": "execute_result"
    }
   ],
   "source": [
    "gp_y_pred"
   ]
  },
  {
   "cell_type": "code",
   "execution_count": 59,
   "id": "1e1c16c8-7bcb-42ec-af9f-c65a0aefa83c",
   "metadata": {},
   "outputs": [
    {
     "name": "stdout",
     "output_type": "stream",
     "text": [
      "Gaussian Process: \n",
      "               precision    recall  f1-score   support\n",
      "\n",
      "           0       1.00      0.41      0.58        17\n",
      "           1       0.43      0.55      0.48        11\n",
      "           2       0.50      0.59      0.54        17\n",
      "           3       0.73      0.65      0.69        17\n",
      "           4       0.81      0.88      0.85        25\n",
      "           5       0.67      0.73      0.70        22\n",
      "           6       0.50      0.79      0.61        19\n",
      "           7       0.65      0.58      0.61        19\n",
      "           8       0.32      0.75      0.44         8\n",
      "           9       1.00      0.28      0.44        25\n",
      "\n",
      "    accuracy                           0.62       180\n",
      "   macro avg       0.66      0.62      0.59       180\n",
      "weighted avg       0.71      0.62      0.61       180\n",
      "\n"
     ]
    }
   ],
   "source": [
    "print('Gaussian Process: \\n', classification_report(y_test, gp_y_pred))\n"
   ]
  },
  {
   "cell_type": "code",
   "execution_count": null,
   "id": "de451d18-eed1-4d19-8639-a7645701f7a9",
   "metadata": {},
   "outputs": [],
   "source": []
  },
  {
   "cell_type": "code",
   "execution_count": null,
   "id": "f5b18123-bdb9-47c0-9c7f-d66110a23535",
   "metadata": {},
   "outputs": [],
   "source": []
  },
  {
   "cell_type": "code",
   "execution_count": null,
   "id": "e4694b3e-d1cf-4534-87fd-f4dddf4bf7e7",
   "metadata": {},
   "outputs": [],
   "source": [
    "# Initialize the GP model for classification\n",
    "gp_model_ani = GP( \n",
    "    X_train_scaled,\n",
    "    y_train,\n",
    "    init_hyperparameters=np.ones(X_train_scaled.shape[1])*9,  # =np.ones(X_train_scaled.shape[1])*9 if the Anisotropic kernel is being used instead\n",
    "    gp_kernel_function=matern_kernel_anisotropic, # =matern_kernel_anisotropic\n",
    "    noise_variances=np.ones(y_train.shape) * 0.25  # Assuming small noise variance (measurement error)\n",
    ")\n",
    "\n",
    "hps_bounds = np.array([[3, 20]] * X_train_scaled.shape[1])\n",
    "\n",
    "#Train using local optimization\n",
    "gp_model_ani.train(\n",
    "    hyperparameter_bounds=hps_bounds,\n",
    "    method='local',\n",
    "    max_iter=50,\n",
    "    tolerance=1,\n",
    ")"
   ]
  },
  {
   "cell_type": "code",
   "execution_count": 64,
   "id": "792a2668-4a1d-4963-9225-a379dac93c5f",
   "metadata": {},
   "outputs": [],
   "source": [
    "# Classify the test set\n",
    "posterior_ani = gp_model_ani.posterior_mean(X_test_scaled)\n",
    "f_cov_ani = gp_model_ani.posterior_covariance(X_test_scaled)\n",
    "f_var_ani = f_cov_ani['v(x)']  # Variances at the input points\n",
    "f_cov_matrix_ani = f_cov_ani['S']  # Full posterior covariance matrix\n",
    "f_mean_ani = posterior_ani[\"f(x)\"] # Posterior means"
   ]
  },
  {
   "cell_type": "code",
   "execution_count": 65,
   "id": "c3f21c0b-cb19-462d-bcc0-de681565c9a9",
   "metadata": {},
   "outputs": [],
   "source": []
  },
  {
   "cell_type": "code",
   "execution_count": null,
   "id": "5d85971b-61aa-4713-9928-c5e8c34ed4c4",
   "metadata": {},
   "outputs": [],
   "source": []
  },
  {
   "cell_type": "code",
   "execution_count": 45,
   "id": "4f98b99a-3f0a-4f8d-8991-17a246827429",
   "metadata": {},
   "outputs": [
    {
     "name": "stdout",
     "output_type": "stream",
     "text": [
      "Epoch 1/20\n",
      "41/41 [==============================] - 0s 2ms/step - loss: 1.4385 - accuracy: 0.6427 - val_loss: 0.7334 - val_accuracy: 0.8395\n",
      "Epoch 2/20\n",
      "41/41 [==============================] - 0s 878us/step - loss: 0.4386 - accuracy: 0.9080 - val_loss: 0.3458 - val_accuracy: 0.9198\n",
      "Epoch 3/20\n",
      "41/41 [==============================] - 0s 933us/step - loss: 0.2029 - accuracy: 0.9505 - val_loss: 0.2535 - val_accuracy: 0.9414\n",
      "Epoch 4/20\n",
      "41/41 [==============================] - 0s 969us/step - loss: 0.1249 - accuracy: 0.9714 - val_loss: 0.2066 - val_accuracy: 0.9475\n",
      "Epoch 5/20\n",
      "41/41 [==============================] - 0s 955us/step - loss: 0.0840 - accuracy: 0.9838 - val_loss: 0.1819 - val_accuracy: 0.9506\n",
      "Epoch 6/20\n",
      "41/41 [==============================] - 0s 939us/step - loss: 0.0607 - accuracy: 0.9915 - val_loss: 0.1629 - val_accuracy: 0.9599\n",
      "Epoch 7/20\n",
      "41/41 [==============================] - 0s 955us/step - loss: 0.0436 - accuracy: 0.9961 - val_loss: 0.1518 - val_accuracy: 0.9599\n",
      "Epoch 8/20\n",
      "41/41 [==============================] - 0s 926us/step - loss: 0.0338 - accuracy: 0.9961 - val_loss: 0.1402 - val_accuracy: 0.9630\n",
      "Epoch 9/20\n",
      "41/41 [==============================] - 0s 887us/step - loss: 0.0257 - accuracy: 0.9977 - val_loss: 0.1348 - val_accuracy: 0.9630\n",
      "Epoch 10/20\n",
      "41/41 [==============================] - 0s 899us/step - loss: 0.0204 - accuracy: 0.9977 - val_loss: 0.1290 - val_accuracy: 0.9691\n",
      "Epoch 11/20\n",
      "41/41 [==============================] - 0s 940us/step - loss: 0.0164 - accuracy: 0.9992 - val_loss: 0.1259 - val_accuracy: 0.9660\n",
      "Epoch 12/20\n",
      "41/41 [==============================] - 0s 992us/step - loss: 0.0133 - accuracy: 1.0000 - val_loss: 0.1262 - val_accuracy: 0.9630\n",
      "Epoch 13/20\n",
      "41/41 [==============================] - 0s 990us/step - loss: 0.0112 - accuracy: 1.0000 - val_loss: 0.1193 - val_accuracy: 0.9660\n",
      "Epoch 14/20\n",
      "41/41 [==============================] - 0s 969us/step - loss: 0.0093 - accuracy: 1.0000 - val_loss: 0.1193 - val_accuracy: 0.9630\n",
      "Epoch 15/20\n",
      "41/41 [==============================] - 0s 998us/step - loss: 0.0079 - accuracy: 1.0000 - val_loss: 0.1174 - val_accuracy: 0.9660\n",
      "Epoch 16/20\n",
      "41/41 [==============================] - 0s 999us/step - loss: 0.0069 - accuracy: 1.0000 - val_loss: 0.1162 - val_accuracy: 0.9660\n",
      "Epoch 17/20\n",
      "41/41 [==============================] - 0s 960us/step - loss: 0.0058 - accuracy: 1.0000 - val_loss: 0.1151 - val_accuracy: 0.9660\n",
      "Epoch 18/20\n",
      "41/41 [==============================] - 0s 3ms/step - loss: 0.0051 - accuracy: 1.0000 - val_loss: 0.1166 - val_accuracy: 0.9660\n",
      "Epoch 19/20\n",
      "41/41 [==============================] - 0s 980us/step - loss: 0.0045 - accuracy: 1.0000 - val_loss: 0.1145 - val_accuracy: 0.9691\n",
      "Epoch 20/20\n",
      "41/41 [==============================] - 0s 933us/step - loss: 0.0040 - accuracy: 1.0000 - val_loss: 0.1129 - val_accuracy: 0.9660\n",
      "6/6 [==============================] - 0s 612us/step - loss: 0.0743 - accuracy: 0.9667\n",
      "Test accuracy: 0.9666666388511658\n",
      "6/6 [==============================] - 0s 489us/step\n",
      "              precision    recall  f1-score   support\n",
      "\n",
      "           0       1.00      0.94      0.97        17\n",
      "           1       0.21      1.00      0.34        11\n",
      "           2       0.94      1.00      0.97        17\n",
      "           3       1.00      0.35      0.52        17\n",
      "           4       1.00      0.08      0.15        25\n",
      "           5       0.94      0.73      0.82        22\n",
      "           6       0.86      1.00      0.93        19\n",
      "           7       1.00      0.21      0.35        19\n",
      "           8       0.27      0.88      0.41         8\n",
      "           9       0.94      0.60      0.73        25\n",
      "\n",
      "    accuracy                           0.63       180\n",
      "   macro avg       0.82      0.68      0.62       180\n",
      "weighted avg       0.88      0.63      0.63       180\n",
      "\n"
     ]
    }
   ],
   "source": [
    "# Build the neural network model\n",
    "model = models.Sequential([\n",
    "    layers.InputLayer(input_shape=(64,)),\n",
    "    layers.Dense(128, activation='relu'),\n",
    "    layers.Dense(64, activation='relu'),\n",
    "    layers.Dense(10, activation='softmax')\n",
    "])\n",
    "\n",
    "# Compile the model\n",
    "model.compile(optimizer='adam',\n",
    "              loss='sparse_categorical_crossentropy',\n",
    "              metrics=['accuracy'])\n",
    "\n",
    "# Train the model\n",
    "model.fit(X_train_scaled, y_train, epochs=20, batch_size=32, validation_split=0.2)\n",
    "\n",
    "# Evaluate the model\n",
    "test_loss, test_acc = model.evaluate(X_test_scaled, y_test)\n",
    "print(f'Test accuracy: {test_acc}')\n",
    "\n",
    "# Predict the value of the digit on the test set\n",
    "y_pred = model.predict(X_test)\n",
    "y_pred_classes = np.argmax(y_pred, axis=1)\n",
    "\n",
    "# Print the classification report\n",
    "print(classification_report(y_test, y_pred_classes))"
   ]
  },
  {
   "cell_type": "code",
   "execution_count": 54,
   "id": "c7d05225-2dfe-446d-8c0d-6dfab61d7730",
   "metadata": {},
   "outputs": [
    {
     "name": "stdout",
     "output_type": "stream",
     "text": [
      "              precision    recall  f1-score   support\n",
      "\n",
      "           0       1.00      1.00      1.00        17\n",
      "           1       1.00      1.00      1.00        11\n",
      "           2       1.00      1.00      1.00        17\n",
      "           3       1.00      0.94      0.97        17\n",
      "           4       1.00      1.00      1.00        25\n",
      "           5       0.96      1.00      0.98        22\n",
      "           6       1.00      1.00      1.00        19\n",
      "           7       1.00      0.95      0.97        19\n",
      "           8       0.89      1.00      0.94         8\n",
      "           9       0.96      0.96      0.96        25\n",
      "\n",
      "    accuracy                           0.98       180\n",
      "   macro avg       0.98      0.98      0.98       180\n",
      "weighted avg       0.98      0.98      0.98       180\n",
      "\n",
      "Accuracy: 0.9833333333333333\n"
     ]
    }
   ],
   "source": [
    "from sklearn.svm import SVC\n",
    "\n",
    "# Create a classifier: a support vector classifier\n",
    "clf = SVC(gamma=0.01)\n",
    "\n",
    "# Learn the digits on the training set\n",
    "clf.fit(X_train_scaled, y_train)\n",
    "\n",
    "# Predict the value of the digit on the test set\n",
    "y_pred = clf.predict(X_test_scaled)\n",
    "\n",
    "# Print the classification report\n",
    "print(classification_report(y_test, y_pred))\n",
    "\n",
    "# Print the accuracy score\n",
    "accuracy = accuracy_score(y_test, y_pred)\n",
    "print(f'Accuracy: {accuracy}')"
   ]
  },
  {
   "cell_type": "code",
   "execution_count": null,
   "id": "a3399429-f8df-44b5-ae53-bf0e3e6251f0",
   "metadata": {},
   "outputs": [],
   "source": []
  }
 ],
 "metadata": {
  "kernelspec": {
   "display_name": "Python 3 (ipykernel)",
   "language": "python",
   "name": "python3"
  },
  "language_info": {
   "codemirror_mode": {
    "name": "ipython",
    "version": 3
   },
   "file_extension": ".py",
   "mimetype": "text/x-python",
   "name": "python",
   "nbconvert_exporter": "python",
   "pygments_lexer": "ipython3",
   "version": "3.11.3"
  }
 },
 "nbformat": 4,
 "nbformat_minor": 5
}
