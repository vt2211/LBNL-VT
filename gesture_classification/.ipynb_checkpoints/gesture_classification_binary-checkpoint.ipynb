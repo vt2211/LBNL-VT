{
 "cells": [
  {
   "cell_type": "markdown",
   "id": "28e97786-7029-478f-ba63-f727d2f383b5",
   "metadata": {},
   "source": [
    "# **Hand Gesture Classification Based on EMG Readings on Muscle Activity**\n",
    "## Implementing *Gaussian Process Regression*, *Logistic Regression*, and *k-NN Classification*\n",
    "\n"
   ]
  },
  {
   "cell_type": "markdown",
   "id": "10016b58-b849-4c55-a8fe-88431ec8701e",
   "metadata": {},
   "source": [
    "### Dataset Description ([Link to Data](https://www.kaggle.com/datasets/kyr7plus/emg-4/data))\n",
    "\n",
    "Each dataset line consists of 8 consecutive readings from all 8 sensors, resulting in 64 columns of EMG data. The final column in each line represents the gesture class that was performed while recording the data. The structure of each line is as follows:\n",
    "\n",
    "    [8sensors][8sensors][8sensors][8sensors][8sensors][8sensors][8sensors][8sensors][GESTURE_CLASS]\n",
    "\n",
    "### Data Recording Details\n",
    "\n",
    "- **Frequency**: 200 Hz\n",
    "- **Record Time per Line**: $ \\frac{8}{200} $ seconds = 40 ms\n",
    "\n",
    "### Gesture Classes\n",
    "\n",
    "The gesture classes and their corresponding labels are:\n",
    "\n",
    "- **Rock**: 0\n",
    "- **Scissors**: 1\n",
    "- **Paper**: 2\n",
    "- **OK**: 3\n",
    "\n",
    "**Gesture Descriptions**:\n",
    "- **Rock, Paper, Scissors**: As in the traditional game.\n",
    "- **OK**: Index finger touching the thumb, with the rest of the fingers spread.\n",
    "\n",
    "### Data Collection\n",
    "\n",
    "Each gesture was recorded 6 times for a duration of 20 seconds per recording. **Recording sessions started and ended with the gesture being held in a fixed position. This resulted in a total of 120 seconds of data for each gesture. All recordings were performed on the same right forearm within a short timespan.**\n",
    "\n",
    "### Data Files\n",
    "\n",
    "The recordings for each gesture class were concatenated into separate CSV files named according to their gesture class (0-3).\n"
   ]
  },
  {
   "cell_type": "markdown",
   "id": "3e6b9d2b-fb45-48b9-92ff-44dd6dcd7afe",
   "metadata": {},
   "source": [
    " "
   ]
  },
  {
   "cell_type": "code",
   "execution_count": 60,
   "id": "ea39d377-3db0-4047-835f-9427e3dbe093",
   "metadata": {},
   "outputs": [],
   "source": [
    "import numpy as np\n",
    "import pandas as pd\n",
    "import sys\n",
    "\n",
    "from fvgp import GP\n",
    "from fvgp.gp_kernels import matern_kernel_diff2\n",
    "\n",
    "from sklearn.preprocessing import StandardScaler\n",
    "from sklearn.model_selection import train_test_split\n",
    "from sklearn.metrics import accuracy_score, classification_report\n",
    "from sklearn.linear_model import LogisticRegression\n",
    "from sklearn.neighbors import KNeighborsClassifier\n",
    "from sklearn.model_selection import GridSearchCV\n",
    "\n",
    "from loguru import logger"
   ]
  },
  {
   "cell_type": "code",
   "execution_count": 76,
   "id": "b4f129c4-4002-4644-a207-eca56223430d",
   "metadata": {},
   "outputs": [
    {
     "name": "stdout",
     "output_type": "stream",
     "text": [
      "\n"
     ]
    }
   ],
   "source": [
    "# To keep track of the training processes\n",
    "logger.enable(\"fvgp\")\n",
    "logger.add(sys.stdout, filter=\"fvgp\", level=\"INFO\")"
   ]
  },
  {
   "cell_type": "markdown",
   "id": "e11f8ae6-b2ef-4211-a790-9464148b45d0",
   "metadata": {},
   "source": [
    "### Data Pre-Processing\n",
    "For Binary Classification, only the first TWO gestures are used (i.e. only rock and scissors)."
   ]
  },
  {
   "cell_type": "code",
   "execution_count": 2,
   "id": "88d4b0fd-0f31-457e-80a9-e093172e36ac",
   "metadata": {},
   "outputs": [],
   "source": [
    "# Load data from csv files and separate features and labels\n",
    "gesture_0 = pd.read_csv('0.csv').values\n",
    "gesture_1 = pd.read_csv('1.csv').values\n",
    "\n",
    "# Extract features and labels – only gesture 0 and 1 for binary classification.\n",
    "X_0, y_0 = gesture_0[:, :-1], gesture_0[:, -1]\n",
    "X_1, y_1 = gesture_1[:, :-1], gesture_1[:, -1]\n",
    "\n",
    "# Concatenate data and labels\n",
    "X = np.vstack((X_0, X_1))\n",
    "y = np.concatenate((y_0, y_1))\n",
    "\n",
    "# Split into training and test sets\n",
    "X_train, X_test, y_train, y_test = train_test_split(X, y, test_size=0.2, random_state=42)\n",
    "\n",
    "# Standardize the features\n",
    "scaler = StandardScaler()\n",
    "X_train_scaled = scaler.fit_transform(X_train)\n",
    "X_test_scaled = scaler.transform(X_test)\n"
   ]
  },
  {
   "cell_type": "markdown",
   "id": "0b0980e7-5a88-4581-9903-c7c393eb5c99",
   "metadata": {},
   "source": [
    "### Gaussian Process\n",
    "Both an isotropic and anisotropic twice-differentiable Matérn kernel function are defined, marginally building on the off-the-shelf kernels provided within the `fvgp.gp_kernels` class. A length scale of 9 is initialized. The isotropic kernel was utilized, though one may expect results with the latter. The prior mean is not declared, so the model assumes it to be the (constant) mean of the `y_train` values."
   ]
  },
  {
   "cell_type": "code",
   "execution_count": 89,
   "id": "4bf84eb3-a218-405b-8212-632e45f6e0bf",
   "metadata": {},
   "outputs": [],
   "source": [
    "def matern_kernel_isotropic(x1, x2, hps): # for one length_scale hyperparameter for each feature\n",
    "    distance = np.sqrt(((x1[:, np.newaxis, :] - x2[np.newaxis, :, :]) ** 2).sum(axis=2))\n",
    "    return matern_kernel_diff2(distance, hps[0])\n",
    "\n",
    "def matern_kernel_anisotropic(x1, x2, length_scales): # for an individual length_scale hyperparameter for each unique feature\n",
    "    length_scales = np.array(length_scales)\n",
    "    d = np.sqrt(np.sum(((x1[:, np.newaxis, :] - x2[np.newaxis, :, :]) / length_scales) ** 2, axis=2))\n",
    "    return matern_kernel_diff2(d, 1.0)"
   ]
  },
  {
   "cell_type": "code",
   "execution_count": 4,
   "id": "8aaa88d4-24ff-4339-8d1b-6e8cce61d272",
   "metadata": {},
   "outputs": [],
   "source": [
    "# Initialize the GP model for classification\n",
    "gp_model = GP( \n",
    "    X_train_scaled,\n",
    "    y_train,\n",
    "    init_hyperparameters=np.array([9.0]),  # =np.ones(X_train_scaled.shape[1])*9 if the Anisotropic kernel is being used instead\n",
    "    gp_kernel_function=matern_kernel_isotropic, # =matern_kernel_anisotropic\n",
    "    noise_variances=np.ones(y_train.shape) * 0.01  # Assuming small noise variance (measurement error)\n",
    ")\n",
    "\n",
    "hps_bounds = np.array([[3, 20]])  \n",
    "\n",
    "#Train using local optimization\n",
    "gp_model.train(\n",
    "    hyperparameter_bounds=hps_bounds,\n",
    "    method='local',\n",
    "    max_iter=30,\n",
    "    tolerance=1,\n",
    ")"
   ]
  },
  {
   "cell_type": "code",
   "execution_count": 77,
   "id": "13188c76-19f5-4879-8d9c-9d715d626bf6",
   "metadata": {},
   "outputs": [
    {
     "name": "stderr",
     "output_type": "stream",
     "text": [
      "\u001b[32m2024-07-20 14:41:04.276\u001b[0m | \u001b[34m\u001b[1mDEBUG   \u001b[0m | \u001b[36mfvgp.gp_lin_alg\u001b[0m:\u001b[36mcalculate_Chol_solve\u001b[0m:\u001b[36m47\u001b[0m - \u001b[34m\u001b[1mcalculate_Chol_solve\u001b[0m\n"
     ]
    }
   ],
   "source": [
    "# Classify the test set\n",
    "posterior = gp_model.posterior_mean(X_test_scaled)\n",
    "f_cov = gp_model.posterior_covariance(X_test_scaled)\n",
    "f_var = f_cov['v(x)']  # Variances at the input points\n",
    "f_cov_matrix = f_cov['S']  # Full posterior covariance matrix\n",
    "f_mean = posterior[\"f(x)\"] # Posterior means\n",
    "\n",
    "gp_y_pred = f_mean.round()\n",
    "gp_y_pred[gp_y_pred == -1] = 0 # truncating anomalies\n",
    "gp_y_pred[gp_y_pred == 2] = 1"
   ]
  },
  {
   "cell_type": "markdown",
   "id": "fe538053-8775-4a66-9aec-c55f5e3a263d",
   "metadata": {},
   "source": [
    "### Logistic Regression\n"
   ]
  },
  {
   "cell_type": "code",
   "execution_count": 78,
   "id": "22ebe321-81dc-4ced-b46e-3a50549f8f4a",
   "metadata": {},
   "outputs": [],
   "source": [
    "lg_model = LogisticRegression() \n",
    "lg_model.fit(X_train_scaled, y_train)\n",
    "\n",
    "# Make predictions on the test set\n",
    "lg_y_pred = logistic_model.predict(X_test_scaled)"
   ]
  },
  {
   "cell_type": "markdown",
   "id": "91d42d6a-a2a4-4617-8672-0370db612973",
   "metadata": {},
   "source": [
    "### k-NN Classification\n",
    "Optimizing the number of (odd) neighbours with a 5-fold cross validation."
   ]
  },
  {
   "cell_type": "code",
   "execution_count": 79,
   "id": "57a026e5-a1c5-4bae-bf2d-4b8a6b145ef7",
   "metadata": {},
   "outputs": [],
   "source": [
    "# Define the parameter grid for the number of neighbors\n",
    "knn_param_grid = {'n_neighbors': range(3, 21, 2)}\n",
    "\n",
    "# Initialize the GridSearchCV with the KNeighborsClassifier\n",
    "grid_search = GridSearchCV(KNeighborsClassifier(), knn_param_grid, cv=5, scoring='accuracy')\n",
    "grid_search.fit(X_train_scaled, y_train)\n",
    "best_n_neighbors = grid_search.best_params_['n_neighbors']\n",
    "\n",
    "# Train the final model with the optimal number of neighbors\n",
    "knn_model = KNeighborsClassifier(n_neighbors=best_n_neighbors)\n",
    "knn_model.fit(X_train_scaled, y_train)\n",
    "\n",
    "# Make predictions on the test set\n",
    "knn_y_pred = knn_model.predict(X_test_scaled)"
   ]
  },
  {
   "cell_type": "markdown",
   "id": "b4d903ca-8eb2-4cd9-9033-fdd8afdab3d8",
   "metadata": {},
   "source": [
    "## Accuracy and Results\n",
    "\n",
    "The posterior means of the Gaussian processe attains a near score, 98.11%, when trained with the 'default' kernel and prior mean, as compared to 60.71% with the Sigmoid function, and 84.35% with the optimal 3-NN Classifier."
   ]
  },
  {
   "cell_type": "code",
   "execution_count": 81,
   "id": "8e17c50d-9cc4-4845-9c20-c23020c53f12",
   "metadata": {},
   "outputs": [
    {
     "name": "stdout",
     "output_type": "stream",
     "text": [
      "Gaussian Process Classification Test Set Accuracy: 0.9811\n",
      "\n",
      "Logistic Regression Test set accuracy: 0.6071\n",
      "\n",
      "Optimal (3) NN Test set accuracy: 0.8435\n",
      "\n"
     ]
    }
   ],
   "source": [
    "gp_accuracy = accuracy_score(y_test, gp_y_pred)\n",
    "lg_accuracy = accuracy_score(y_test, lg_y_pred)\n",
    "knn_accuracy = accuracy_score(y_test, knn_y_pred)\n",
    "print(f'Gaussian Process Classification Test Set Accuracy: {gp_accuracy:.4f}\\n')\n",
    "print(f'Logistic Regression Test set accuracy: {lg_accuracy:.4f}\\n')\n",
    "print(f'Optimal ({best_n_neighbors}) NN Test set accuracy: {knn_accuracy:.4f}\\n')"
   ]
  },
  {
   "cell_type": "code",
   "execution_count": 93,
   "id": "4b23d1d5-d786-4d3e-9373-ffa0dcc2222b",
   "metadata": {},
   "outputs": [
    {
     "name": "stdout",
     "output_type": "stream",
     "text": [
      "Gaussian Process: \n",
      "               precision    recall  f1-score   support\n",
      "\n",
      "         0.0       1.00      0.96      0.98       597\n",
      "         1.0       0.96      1.00      0.98       566\n",
      "\n",
      "    accuracy                           0.98      1163\n",
      "   macro avg       0.98      0.98      0.98      1163\n",
      "weighted avg       0.98      0.98      0.98      1163\n",
      "\n",
      "Logistic Regression: \n",
      "               precision    recall  f1-score   support\n",
      "\n",
      "         0.0       0.66      0.49      0.56       597\n",
      "         1.0       0.58      0.73      0.64       566\n",
      "\n",
      "    accuracy                           0.61      1163\n",
      "   macro avg       0.62      0.61      0.60      1163\n",
      "weighted avg       0.62      0.61      0.60      1163\n",
      "\n",
      "k-NN Classification: \n",
      "               precision    recall  f1-score   support\n",
      "\n",
      "         0.0       1.00      0.70      0.82       597\n",
      "         1.0       0.76      1.00      0.86       566\n",
      "\n",
      "    accuracy                           0.84      1163\n",
      "   macro avg       0.88      0.85      0.84      1163\n",
      "weighted avg       0.88      0.84      0.84      1163\n",
      "\n"
     ]
    }
   ],
   "source": [
    "print('Gaussian Process: \\n', classification_report(y_test, gp_y_pred))\n",
    "print('Logistic Regression: \\n', classification_report(y_test, lg_y_pred))\n",
    "print('k-NN Classification: \\n', classification_report(y_test, knn_y_pred))"
   ]
  }
 ],
 "metadata": {
  "kernelspec": {
   "display_name": "Python 3 (ipykernel)",
   "language": "python",
   "name": "python3"
  },
  "language_info": {
   "codemirror_mode": {
    "name": "ipython",
    "version": 3
   },
   "file_extension": ".py",
   "mimetype": "text/x-python",
   "name": "python",
   "nbconvert_exporter": "python",
   "pygments_lexer": "ipython3",
   "version": "3.11.3"
  }
 },
 "nbformat": 4,
 "nbformat_minor": 5
}
